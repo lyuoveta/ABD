{
 "cells": [
  {
   "cell_type": "code",
   "execution_count": 10,
   "id": "6fdbce12",
   "metadata": {},
   "outputs": [
    {
     "name": "stdout",
     "output_type": "stream",
     "text": [
      "Requirement already satisfied: rdkit-pypi in c:\\users\\lyuob\\anaconda3\\lib\\site-packages (2022.9.5)\n",
      "Requirement already satisfied: numpy in c:\\users\\lyuob\\anaconda3\\lib\\site-packages (from rdkit-pypi) (1.24.3)\n",
      "Requirement already satisfied: Pillow in c:\\users\\lyuob\\anaconda3\\lib\\site-packages (from rdkit-pypi) (9.4.0)\n",
      "Requirement already satisfied: mordred in c:\\users\\lyuob\\anaconda3\\lib\\site-packages (1.2.0)\n",
      "Requirement already satisfied: six==1.* in c:\\users\\lyuob\\anaconda3\\lib\\site-packages (from mordred) (1.16.0)\n",
      "Requirement already satisfied: numpy==1.* in c:\\users\\lyuob\\anaconda3\\lib\\site-packages (from mordred) (1.24.3)\n",
      "Requirement already satisfied: networkx==2.* in c:\\users\\lyuob\\anaconda3\\lib\\site-packages (from mordred) (2.8.8)\n"
     ]
    }
   ],
   "source": [
    "!pip install rdkit-pypi\n",
    "!pip install mordred"
   ]
  },
  {
   "cell_type": "code",
   "execution_count": 11,
   "id": "cf63bd02",
   "metadata": {},
   "outputs": [],
   "source": [
    "from rdkit import Chem\n",
    "from rdkit.Chem import Descriptors\n",
    "import pandas as pd\n",
    "from mordred import Calculator, descriptors as mordred_descriptors\n",
    "from sklearn.feature_selection import VarianceThreshold\n",
    "from sklearn.feature_selection import SelectKBest, mutual_info_regression"
   ]
  },
  {
   "cell_type": "code",
   "execution_count": 12,
   "id": "4db50394",
   "metadata": {},
   "outputs": [],
   "source": [
    "data = pd.read_csv('sample_qm9.csv')"
   ]
  },
  {
   "cell_type": "code",
   "execution_count": 13,
   "id": "b1f99dc4",
   "metadata": {},
   "outputs": [],
   "source": [
    "def get_rdkit_descriptors(smiles):\n",
    "    mol = Chem.MolFromSmiles(smiles)\n",
    "    descriptors_dict = {}\n",
    "    for desc_name, desc_func in Descriptors.descList:\n",
    "        descriptors_dict[desc_name] = desc_func(mol)\n",
    "    return descriptors_dict\n",
    "def get_mordred_descriptors(smiles):\n",
    "    mol = Chem.MolFromSmiles(smiles)\n",
    "    calc = Calculator(mordred_descriptors, ignore_3D=True)\n",
    "    descs = calc(mol)\n",
    "    return descs.asdict()"
   ]
  },
  {
   "cell_type": "code",
   "execution_count": 14,
   "id": "52db1231",
   "metadata": {},
   "outputs": [],
   "source": [
    "rdkit_descriptors_df = data['smiles'].apply(get_rdkit_descriptors).apply(pd.Series)"
   ]
  },
  {
   "cell_type": "code",
   "execution_count": 15,
   "id": "6632d677",
   "metadata": {},
   "outputs": [],
   "source": [
    "mordred_descriptors_df = data['smiles'].apply(get_mordred_descriptors).apply(pd.Series)"
   ]
  },
  {
   "cell_type": "code",
   "execution_count": 16,
   "id": "0c8aafad",
   "metadata": {
    "scrolled": true
   },
   "outputs": [
    {
     "name": "stdout",
     "output_type": "stream",
     "text": [
      "       mol_id           smiles        A        B        C      mu  alpha  \\\n",
      "0  gdb_110298  CCC1C2C(O)C2C1C  2.08389  1.40096  1.20534  1.3323  85.23   \n",
      "1    gdb_2851       OCC1CC1C=O  5.87951  1.42621  1.24696  2.6127  59.30   \n",
      "2   gdb_18078    CC#CC1C2COC12  4.83398  1.21834  1.13454  1.4475  73.84   \n",
      "3   gdb_36538  N#CCN=C1OC2CC12  4.57418  0.90022  0.87379  5.8752  73.04   \n",
      "4   gdb_91667  OC1CC2OC1C21CN1  2.56991  1.73865  1.37865  2.1139  71.36   \n",
      "\n",
      "     homo    lumo     gap  ...      SRW10     TSRW10          MW       AMW  \\\n",
      "0 -0.2424  0.0680  0.3103  ...  10.002020  62.170441  126.104465  5.482803   \n",
      "1 -0.2483 -0.0195  0.2288  ...   8.673342  54.073722  100.052429  6.670162   \n",
      "2 -0.2224  0.0542  0.2766  ...   9.585965  59.659094  108.057515  6.753595   \n",
      "3 -0.2754 -0.0059  0.2695  ...   9.599066  60.357687  122.048013  8.136534   \n",
      "4 -0.2450  0.0652  0.3102  ...  10.186521  63.046892  127.063329  7.059074   \n",
      "\n",
      "   WPath  WPol  Zagreb1  Zagreb2  mZagreb1  mZagreb2  \n",
      "0     84     9     52.0     68.0  3.805556  2.000000  \n",
      "1     47     5     32.0     37.0  2.972222  1.777778  \n",
      "2     66     5     44.0     55.0  2.333333  1.833333  \n",
      "3     98     6     48.0     58.0  2.583333  2.055556  \n",
      "4     74     9     60.0     80.0  2.395833  1.777778  \n",
      "\n",
      "[5 rows x 1838 columns]\n"
     ]
    }
   ],
   "source": [
    "data_with_descriptors = pd.concat([data, rdkit_descriptors_df, mordred_descriptors_df], axis=1)\n",
    "\n",
    "print(data_with_descriptors.head())"
   ]
  },
  {
   "cell_type": "code",
   "execution_count": 17,
   "id": "9b060399",
   "metadata": {},
   "outputs": [],
   "source": [
    "data_with_descriptors.to_csv('descriptors.csv', index=False)"
   ]
  }
 ],
 "metadata": {
  "celltoolbar": "Attachments",
  "kernelspec": {
   "display_name": "Python 3 (ipykernel)",
   "language": "python",
   "name": "python3"
  },
  "language_info": {
   "codemirror_mode": {
    "name": "ipython",
    "version": 3
   },
   "file_extension": ".py",
   "mimetype": "text/x-python",
   "name": "python",
   "nbconvert_exporter": "python",
   "pygments_lexer": "ipython3",
   "version": "3.11.5"
  }
 },
 "nbformat": 4,
 "nbformat_minor": 5
}
